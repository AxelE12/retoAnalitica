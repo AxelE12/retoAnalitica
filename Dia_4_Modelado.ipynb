{
  "nbformat": 4,
  "nbformat_minor": 0,
  "metadata": {
    "colab": {
      "name": "Dia_4_Modelado.ipynb",
      "provenance": [],
      "collapsed_sections": []
    },
    "kernelspec": {
      "name": "python3",
      "display_name": "Python 3"
    },
    "language_info": {
      "name": "python"
    }
  },
  "cells": [
    {
      "cell_type": "markdown",
      "source": [
        "## **Modelación de los datos**\n",
        "\n",
        "\n",
        "**Modelo SLR (Regresión lineal simple)**\n",
        "La regresión lineal es un modelo estadístico que examina la relación lineal entre dos (Regresión lineal simple) o más (Regresión lineal múltiple) variables: una variable dependiente y una o varias variables independientes. La relación lineal básicamente significa que cuando una (o más) variables independientes aumentan (o disminuyen), la variable dependiente aumenta (o disminuye) también.\n",
        "\n",
        "Ecuación: ***y = mx + b***\n",
        "\n",
        "**Modelo MLR (Regresión lineal múltiple)**\n",
        "En la mayoría de los casos, tendremos más de una variable independiente: tendremos múltiples variables; puede ser tan pequeño como dos variables independientes y hasta cientos (o teóricamente incluso miles) de variables.\n",
        "\n",
        "Ecuación: ***y = b0 + b1X1 + b2X2***\n",
        "\n",
        "\n",
        "Hay dos formas principales de realizar una regresión lineal en Python: con las librerías: **statsmodels** y con **scikit-learn**."
      ],
      "metadata": {
        "id": "lrGUV-V5qSQQ"
      }
    },
    {
      "cell_type": "code",
      "source": [
        "import numpy as np\n",
        "import matplotlib.pyplot as plt\n",
        "import pandas as pd\n",
        "import seaborn as sns\n",
        "\n",
        "datos_mall = pd.read_csv(\"Mall_Customers.csv\")\n",
        "\n",
        "ID = datos_mall['CustomerID']\n",
        "Gender = datos_mall['Gender']\n",
        "Age = datos_mall['Age']\n",
        "Income = datos_mall['Annual Income (k$)']\n",
        "Spend = datos_mall['Spending Score (1-100)']\n"
      ],
      "metadata": {
        "id": "iyHs8t2OqVMl"
      },
      "execution_count": null,
      "outputs": []
    },
    {
      "cell_type": "markdown",
      "source": [
        "# **Modelo SLR (Regresión lineal simple)**"
      ],
      "metadata": {
        "id": "NAfnZNBjT6QN"
      }
    },
    {
      "cell_type": "markdown",
      "source": [
        "Ejercicio **sin** la constante b0"
      ],
      "metadata": {
        "id": "BQ0zsYlewp56"
      }
    },
    {
      "cell_type": "code",
      "source": [
        "import statsmodels.api as sm   # Proporciona clases y funciones para la estimación de muchos modelos estadísticos diferentes, pruebas estadísticas y exploración de datos estadísticos\"."
      ],
      "metadata": {
        "id": "VMVQc87wqvSd",
        "colab": {
          "base_uri": "https://localhost:8080/"
        },
        "outputId": "c8759978-2bbf-407c-e46d-6a6778d6eced"
      },
      "execution_count": null,
      "outputs": [
        {
          "output_type": "stream",
          "name": "stderr",
          "text": [
            "/usr/local/lib/python3.7/dist-packages/statsmodels/tools/_testing.py:19: FutureWarning: pandas.util.testing is deprecated. Use the functions in the public API at pandas.testing instead.\n",
            "  import pandas.util.testing as tm\n"
          ]
        }
      ]
    },
    {
      "cell_type": "code",
      "source": [
        "#Ejercicio de promedio de calificaciones y salario inicial\n",
        "\n",
        "X = Age\n",
        "y = Spend\n",
        "\n",
        "modelo = sm.OLS(y, X).fit()      # OJO con el orden de los argumentos --> sm.OLS(output, input)\n",
        "predictions = modelo.predict(X)\n",
        "\n",
        "modelo.summary()\n",
        "#Se espera una ecuación de este tipo:  Y = 14.81 + 5.71x, r2=0.97, estimar y(3) = 31.93"
      ],
      "metadata": {
        "id": "2yI9wFYN7xS1",
        "colab": {
          "base_uri": "https://localhost:8080/",
          "height": 430
        },
        "outputId": "28da67e9-0c25-4b2b-ab43-cadb13de5745"
      },
      "execution_count": null,
      "outputs": [
        {
          "output_type": "execute_result",
          "data": {
            "text/plain": [
              "<class 'statsmodels.iolib.summary.Summary'>\n",
              "\"\"\"\n",
              "                                   OLS Regression Results                                  \n",
              "===========================================================================================\n",
              "Dep. Variable:     Spending Score (1-100)   R-squared (uncentered):                   0.619\n",
              "Model:                                OLS   Adj. R-squared (uncentered):              0.618\n",
              "Method:                     Least Squares   F-statistic:                              323.9\n",
              "Date:                    Sat, 14 May 2022   Prob (F-statistic):                    1.28e-43\n",
              "Time:                            01:44:24   Log-Likelihood:                         -993.76\n",
              "No. Observations:                     200   AIC:                                      1990.\n",
              "Df Residuals:                         199   BIC:                                      1993.\n",
              "Df Model:                               1                                                  \n",
              "Covariance Type:                nonrobust                                                  \n",
              "==============================================================================\n",
              "                 coef    std err          t      P>|t|      [0.025      0.975]\n",
              "------------------------------------------------------------------------------\n",
              "Age            1.0759      0.060     17.997      0.000       0.958       1.194\n",
              "==============================================================================\n",
              "Omnibus:                       54.784   Durbin-Watson:                   3.280\n",
              "Prob(Omnibus):                  0.000   Jarque-Bera (JB):               10.094\n",
              "Skew:                          -0.003   Prob(JB):                      0.00643\n",
              "Kurtosis:                       1.899   Cond. No.                         1.00\n",
              "==============================================================================\n",
              "\n",
              "Warnings:\n",
              "[1] Standard Errors assume that the covariance matrix of the errors is correctly specified.\n",
              "\"\"\""
            ],
            "text/html": [
              "<table class=\"simpletable\">\n",
              "<caption>OLS Regression Results</caption>\n",
              "<tr>\n",
              "  <th>Dep. Variable:</th>    <td>Spending Score (1-100)</td> <th>  R-squared (uncentered):</th>      <td>   0.619</td>\n",
              "</tr>\n",
              "<tr>\n",
              "  <th>Model:</th>                      <td>OLS</td>          <th>  Adj. R-squared (uncentered):</th> <td>   0.618</td>\n",
              "</tr>\n",
              "<tr>\n",
              "  <th>Method:</th>                <td>Least Squares</td>     <th>  F-statistic:       </th>          <td>   323.9</td>\n",
              "</tr>\n",
              "<tr>\n",
              "  <th>Date:</th>                <td>Sat, 14 May 2022</td>    <th>  Prob (F-statistic):</th>          <td>1.28e-43</td>\n",
              "</tr>\n",
              "<tr>\n",
              "  <th>Time:</th>                    <td>01:44:24</td>        <th>  Log-Likelihood:    </th>          <td> -993.76</td>\n",
              "</tr>\n",
              "<tr>\n",
              "  <th>No. Observations:</th>         <td>   200</td>         <th>  AIC:               </th>          <td>   1990.</td>\n",
              "</tr>\n",
              "<tr>\n",
              "  <th>Df Residuals:</th>             <td>   199</td>         <th>  BIC:               </th>          <td>   1993.</td>\n",
              "</tr>\n",
              "<tr>\n",
              "  <th>Df Model:</th>                 <td>     1</td>         <th>                     </th>              <td> </td>   \n",
              "</tr>\n",
              "<tr>\n",
              "  <th>Covariance Type:</th>         <td>nonrobust</td>       <th>                     </th>              <td> </td>   \n",
              "</tr>\n",
              "</table>\n",
              "<table class=\"simpletable\">\n",
              "<tr>\n",
              "   <td></td>      <th>coef</th>     <th>std err</th>      <th>t</th>      <th>P>|t|</th>  <th>[0.025</th>    <th>0.975]</th>  \n",
              "</tr>\n",
              "<tr>\n",
              "  <th>Age</th> <td>    1.0759</td> <td>    0.060</td> <td>   17.997</td> <td> 0.000</td> <td>    0.958</td> <td>    1.194</td>\n",
              "</tr>\n",
              "</table>\n",
              "<table class=\"simpletable\">\n",
              "<tr>\n",
              "  <th>Omnibus:</th>       <td>54.784</td> <th>  Durbin-Watson:     </th> <td>   3.280</td>\n",
              "</tr>\n",
              "<tr>\n",
              "  <th>Prob(Omnibus):</th> <td> 0.000</td> <th>  Jarque-Bera (JB):  </th> <td>  10.094</td>\n",
              "</tr>\n",
              "<tr>\n",
              "  <th>Skew:</th>          <td>-0.003</td> <th>  Prob(JB):          </th> <td> 0.00643</td>\n",
              "</tr>\n",
              "<tr>\n",
              "  <th>Kurtosis:</th>      <td> 1.899</td> <th>  Cond. No.          </th> <td>    1.00</td>\n",
              "</tr>\n",
              "</table><br/><br/>Warnings:<br/>[1] Standard Errors assume that the covariance matrix of the errors is correctly specified."
            ]
          },
          "metadata": {},
          "execution_count": 4
        }
      ]
    },
    {
      "cell_type": "code",
      "source": [
        "modelo.params"
      ],
      "metadata": {
        "id": "F3rBG40MoyBC",
        "colab": {
          "base_uri": "https://localhost:8080/"
        },
        "outputId": "34b89684-6ccd-4abe-9061-97a2e4e9126d"
      },
      "execution_count": null,
      "outputs": [
        {
          "output_type": "execute_result",
          "data": {
            "text/plain": [
              "Age    1.075927\n",
              "dtype: float64"
            ]
          },
          "metadata": {},
          "execution_count": 5
        }
      ]
    },
    {
      "cell_type": "markdown",
      "source": [
        "Ejercicio **con** la constante b0\n",
        "\n",
        "Para agregar una constante al modelo, hay que configurarlo usando el comando X = sm.add_constant(X) donde X es el nombre del DataFrame que contiene las variables de entrada (independientes)."
      ],
      "metadata": {
        "id": "svBGaUm2T13j"
      }
    },
    {
      "cell_type": "code",
      "source": [
        "import statsmodels.api as sm \n",
        "\n",
        "X = Age\n",
        "y = Spend\n",
        "\n",
        "X = sm.add_constant(X)   # se agrega la intercepción, la ordenada al origen (beta_0) el modelo\n",
        "\n",
        "modelo = sm.OLS(y, X).fit()         # sm.OLS(output, input)\n",
        "predictions = modelo.predict(X)\n",
        "\n",
        "modelo.summary()\n",
        "\n",
        "#Se espera una ecuación de este tipo:  Y = 14.81 + 5.71x, r2=0.97, estimar y(3) = 31.93"
      ],
      "metadata": {
        "id": "8u72esMppSOE",
        "colab": {
          "base_uri": "https://localhost:8080/",
          "height": 507
        },
        "outputId": "9e441a3c-0c3c-4086-f8a9-d6043c89d858"
      },
      "execution_count": null,
      "outputs": [
        {
          "output_type": "stream",
          "name": "stderr",
          "text": [
            "/usr/local/lib/python3.7/dist-packages/statsmodels/tsa/tsatools.py:117: FutureWarning: In a future version of pandas all arguments of concat except for the argument 'objs' will be keyword-only\n",
            "  x = pd.concat(x[::order], 1)\n"
          ]
        },
        {
          "output_type": "execute_result",
          "data": {
            "text/plain": [
              "<class 'statsmodels.iolib.summary.Summary'>\n",
              "\"\"\"\n",
              "                              OLS Regression Results                              \n",
              "==================================================================================\n",
              "Dep. Variable:     Spending Score (1-100)   R-squared:                       0.107\n",
              "Model:                                OLS   Adj. R-squared:                  0.103\n",
              "Method:                     Least Squares   F-statistic:                     23.74\n",
              "Date:                    Sat, 14 May 2022   Prob (F-statistic):           2.25e-06\n",
              "Time:                            01:44:32   Log-Likelihood:                -922.22\n",
              "No. Observations:                     200   AIC:                             1848.\n",
              "Df Residuals:                         198   BIC:                             1855.\n",
              "Df Model:                               1                                         \n",
              "Covariance Type:                nonrobust                                         \n",
              "==============================================================================\n",
              "                 coef    std err          t      P>|t|      [0.025      0.975]\n",
              "------------------------------------------------------------------------------\n",
              "const         73.7012      5.124     14.384      0.000      63.597      83.805\n",
              "Age           -0.6049      0.124     -4.873      0.000      -0.850      -0.360\n",
              "==============================================================================\n",
              "Omnibus:                       10.095   Durbin-Watson:                   3.451\n",
              "Prob(Omnibus):                  0.006   Jarque-Bera (JB):                5.957\n",
              "Skew:                          -0.250   Prob(JB):                       0.0509\n",
              "Kurtosis:                       2.318   Cond. No.                         122.\n",
              "==============================================================================\n",
              "\n",
              "Warnings:\n",
              "[1] Standard Errors assume that the covariance matrix of the errors is correctly specified.\n",
              "\"\"\""
            ],
            "text/html": [
              "<table class=\"simpletable\">\n",
              "<caption>OLS Regression Results</caption>\n",
              "<tr>\n",
              "  <th>Dep. Variable:</th>    <td>Spending Score (1-100)</td> <th>  R-squared:         </th> <td>   0.107</td>\n",
              "</tr>\n",
              "<tr>\n",
              "  <th>Model:</th>                      <td>OLS</td>          <th>  Adj. R-squared:    </th> <td>   0.103</td>\n",
              "</tr>\n",
              "<tr>\n",
              "  <th>Method:</th>                <td>Least Squares</td>     <th>  F-statistic:       </th> <td>   23.74</td>\n",
              "</tr>\n",
              "<tr>\n",
              "  <th>Date:</th>                <td>Sat, 14 May 2022</td>    <th>  Prob (F-statistic):</th> <td>2.25e-06</td>\n",
              "</tr>\n",
              "<tr>\n",
              "  <th>Time:</th>                    <td>01:44:32</td>        <th>  Log-Likelihood:    </th> <td> -922.22</td>\n",
              "</tr>\n",
              "<tr>\n",
              "  <th>No. Observations:</th>         <td>   200</td>         <th>  AIC:               </th> <td>   1848.</td>\n",
              "</tr>\n",
              "<tr>\n",
              "  <th>Df Residuals:</th>             <td>   198</td>         <th>  BIC:               </th> <td>   1855.</td>\n",
              "</tr>\n",
              "<tr>\n",
              "  <th>Df Model:</th>                 <td>     1</td>         <th>                     </th>     <td> </td>   \n",
              "</tr>\n",
              "<tr>\n",
              "  <th>Covariance Type:</th>         <td>nonrobust</td>       <th>                     </th>     <td> </td>   \n",
              "</tr>\n",
              "</table>\n",
              "<table class=\"simpletable\">\n",
              "<tr>\n",
              "    <td></td>       <th>coef</th>     <th>std err</th>      <th>t</th>      <th>P>|t|</th>  <th>[0.025</th>    <th>0.975]</th>  \n",
              "</tr>\n",
              "<tr>\n",
              "  <th>const</th> <td>   73.7012</td> <td>    5.124</td> <td>   14.384</td> <td> 0.000</td> <td>   63.597</td> <td>   83.805</td>\n",
              "</tr>\n",
              "<tr>\n",
              "  <th>Age</th>   <td>   -0.6049</td> <td>    0.124</td> <td>   -4.873</td> <td> 0.000</td> <td>   -0.850</td> <td>   -0.360</td>\n",
              "</tr>\n",
              "</table>\n",
              "<table class=\"simpletable\">\n",
              "<tr>\n",
              "  <th>Omnibus:</th>       <td>10.095</td> <th>  Durbin-Watson:     </th> <td>   3.451</td>\n",
              "</tr>\n",
              "<tr>\n",
              "  <th>Prob(Omnibus):</th> <td> 0.006</td> <th>  Jarque-Bera (JB):  </th> <td>   5.957</td>\n",
              "</tr>\n",
              "<tr>\n",
              "  <th>Skew:</th>          <td>-0.250</td> <th>  Prob(JB):          </th> <td>  0.0509</td>\n",
              "</tr>\n",
              "<tr>\n",
              "  <th>Kurtosis:</th>      <td> 2.318</td> <th>  Cond. No.          </th> <td>    122.</td>\n",
              "</tr>\n",
              "</table><br/><br/>Warnings:<br/>[1] Standard Errors assume that the covariance matrix of the errors is correctly specified."
            ]
          },
          "metadata": {},
          "execution_count": 6
        }
      ]
    },
    {
      "cell_type": "code",
      "source": [
        "modelo.params\n"
      ],
      "metadata": {
        "id": "na-0zYEVAGpX",
        "colab": {
          "base_uri": "https://localhost:8080/"
        },
        "outputId": "2c75129b-a574-442b-8855-d62fc1d262a2"
      },
      "execution_count": null,
      "outputs": [
        {
          "output_type": "execute_result",
          "data": {
            "text/plain": [
              "const    73.701191\n",
              "Age      -0.604921\n",
              "dtype: float64"
            ]
          },
          "metadata": {},
          "execution_count": 7
        }
      ]
    },
    {
      "cell_type": "code",
      "source": [
        "modelo.mse_resid"
      ],
      "metadata": {
        "id": "MoaRjTZ9AH5L",
        "colab": {
          "base_uri": "https://localhost:8080/"
        },
        "outputId": "da7592b9-700b-4a80-bbcc-b8dafd370e39"
      },
      "execution_count": null,
      "outputs": [
        {
          "output_type": "execute_result",
          "data": {
            "text/plain": [
              "598.4565633674733"
            ]
          },
          "metadata": {},
          "execution_count": 8
        }
      ]
    },
    {
      "cell_type": "markdown",
      "source": [
        "https://www.cienciadedatos.net/documentos/py10-regresion-lineal-python.html"
      ],
      "metadata": {
        "id": "B3anQtMPBhQk"
      }
    },
    {
      "cell_type": "markdown",
      "source": [
        "# **Modelo Lineal Múltiple**"
      ],
      "metadata": {
        "id": "b0DY7Yzcph1k"
      }
    },
    {
      "cell_type": "code",
      "source": [
        "df = pd.read_csv('Mall_Customers.csv')\n",
        "df\n",
        "\n"
      ],
      "metadata": {
        "id": "h8MBAWKUUALo"
      },
      "execution_count": null,
      "outputs": []
    },
    {
      "cell_type": "code",
      "source": [
        "edad = df['Age']\n",
        "#edad\n",
        "gast = df['Spending Score (1-100)']\n",
        "df2 = pd.DataFrame({\n",
        "    'edad': edad,\n",
        "    'Gastos': gast\n",
        "})\n",
        "df2"
      ],
      "metadata": {
        "id": "tNx1I1D_ZQO_"
      },
      "execution_count": null,
      "outputs": []
    },
    {
      "cell_type": "code",
      "source": [
        "import statsmodels.api as sm \n",
        "\n",
        "datos = pd.read_csv('Mall_Customers.csv')\n",
        "\n",
        "X = df2\n",
        "y = datos[\"Annual Income (k$)\"]\n",
        "\n",
        "#X[0] = [0, 2, 2.5, 1, 4, 7]\n",
        "#X[1] = [0, 1, 2, 3, 6, 2]\n",
        "#y = [5, 10, 9, 0, 3, 27]\n",
        "\n",
        "X = sm.add_constant(X)   # se agrega la intercepción, la ordenada al origen (beta_0) el modelo\n",
        "\n",
        "modelo = sm.OLS(y, X).fit()\n",
        "\n",
        "predictions = modelo.predict(X)  # Con el modelo, se calculan las Y´s\n",
        "\n",
        "modelo.summary()\n",
        "\n",
        "#Se espera una ecuación de este tipo:  Y = 5 + 4x1 -3x2,   r2=1, estimar y(5.5, 3) = 18"
      ],
      "metadata": {
        "id": "acJz4ha3pj2d"
      },
      "execution_count": null,
      "outputs": []
    },
    {
      "cell_type": "code",
      "source": [
        "predictions"
      ],
      "metadata": {
        "id": "YqZkd1BnU_Nm"
      },
      "execution_count": null,
      "outputs": []
    },
    {
      "cell_type": "markdown",
      "source": [
        "# **Regresión lineal con la librería SciKit Learn**\n",
        "\n",
        "SKLearn es prácticamente el estándar de oro cuando se trata de aprendizaje\n",
        "automático en Python. Tiene muchos algoritmos de aprendizaje, para regresión, clasificación, agrupamiento y reducción de dimensionalidad."
      ],
      "metadata": {
        "id": "1qMM67JjpoZt"
      }
    },
    {
      "cell_type": "code",
      "source": [
        "import numpy as np\n",
        "import pandas as pd\n",
        "import matplotlib.pyplot as plt"
      ],
      "metadata": {
        "id": "7ptFnHzNqIob"
      },
      "execution_count": null,
      "outputs": []
    },
    {
      "cell_type": "code",
      "source": [
        "dataset = pd.read_csv('Mall_Customers.csv')\n",
        "x = dataset.iloc[:, :1].values #CANTIDAD DE CLIENTES\n",
        "y = dataset.iloc[:, -1].values   #GASTO"
      ],
      "metadata": {
        "id": "YheDQaIbqSUV"
      },
      "execution_count": null,
      "outputs": []
    },
    {
      "cell_type": "code",
      "source": [
        "x"
      ],
      "metadata": {
        "id": "P8zWZiXHgL7D"
      },
      "execution_count": null,
      "outputs": []
    },
    {
      "cell_type": "code",
      "source": [
        "from sklearn.model_selection import train_test_split\n",
        "\n",
        "x_train, x_test, y_train, y_test = train_test_split(x, y, test_size = 1/3)    # Se dividen los datos para entrenamiento y prueba\n",
        "\n",
        "from sklearn.linear_model import LinearRegression    # Clase de regresión lineal\n",
        "\n",
        "lr = LinearRegression()    #objeto de la clase que será el modelo de regresión lineal\n",
        "\n",
        "lr.fit(x_train, y_train)   #método para \"ajustar\" el modelo al conjunto de datos. Es decir, el regresor \"estudia\" los datos y \"aprende\" de ellos\n",
        "\n",
        "y_pred = lr.predict(x_test) #probar el modelo\n",
        "\n",
        "#Visualización de los datos\n",
        "\n",
        "plt.scatter(x_train, y_train, color = \"red\")  # diagrama de dispersión para trazar las observaciones reales\n",
        "plt.plot(x_train, lr.predict(x_train), color = \"green\") # Para la línea de regresión, se usa x_train en el eje x y las predicciones de las observaciones en el eje y.\n",
        "plt.title(\"Clientes del centro comercial\")\n",
        "plt.xlabel(\"NÚMERO DE CLIENTE\")\n",
        "plt.ylabel(\"GASTO\")\n",
        "plt.show()\n"
      ],
      "metadata": {
        "id": "CuW6aZ0crIYf",
        "colab": {
          "base_uri": "https://localhost:8080/",
          "height": 295
        },
        "outputId": "66f6e07d-18f6-490e-a88c-ad8cb551e168"
      },
      "execution_count": null,
      "outputs": [
        {
          "output_type": "display_data",
          "data": {
            "text/plain": [
              "<Figure size 432x288 with 1 Axes>"
            ],
            "image/png": "[encoded data removed]"
          },
          "metadata": {
            "needs_background": "light"
          }
        }
      ]
    },
    {
      "cell_type": "code",
      "source": [
        "y_pred"
      ],
      "metadata": {
        "id": "fUSJr2jHhClO"
      },
      "execution_count": null,
      "outputs": []
    },
    {
      "cell_type": "code",
      "source": [
        "#Se repite la misma tarea para el conjunto de datos de prueba\n",
        "\n",
        "plt.scatter(x_test, y_test, color = \"red\")    # diagrama de dispersión para trazar las observaciones reales\n",
        "plt.plot(x_train, lr.predict(x_train), color = \"green\")   # Para la línea de regresión, se usa x_train en el eje x y las predicciones de las observaciones en el eje y.\n",
        "plt.title(\"Clientes del centro comercial\")\n",
        "plt.xlabel(\"NÚMERO DE CLIENTE\")\n",
        "plt.ylabel(\"GASTO\")\n",
        "plt.show()"
      ],
      "metadata": {
        "id": "4viSjuPts-wj",
        "colab": {
          "base_uri": "https://localhost:8080/",
          "height": 295
        },
        "outputId": "f2e0d1f3-4d99-40c2-931a-083ead3ead30"
      },
      "execution_count": null,
      "outputs": [
        {
          "output_type": "display_data",
          "data": {
            "text/plain": [
              "<Figure size 432x288 with 1 Axes>"
            ],
            "image/png": "[encoded data removed]"
          },
          "metadata": {
            "needs_background": "light"
          }
        }
      ]
    },
    {
      "cell_type": "markdown",
      "source": [
        "## **K-means**"
      ],
      "metadata": {
        "id": "3RJduOsg_SMt"
      }
    },
    {
      "cell_type": "markdown",
      "source": [
        "El algoritmo trabaja iterativamente para asignar a cada “punto” (las filas de nuestro conjunto de entrada forman una coordenada) uno de los “K” grupos basado en sus características. Son agrupados en base a la similitud de sus features (las columnas). Como resultado de ejecutar el algoritmo tendremos:\n",
        "\n",
        "*   Los “centroids” de cada grupo que serán unas “coordenadas” de cada uno de los K conjuntos que se utilizarán para poder etiquetar nuevas muestras.\n",
        "*   Etiquetas para el conjunto de datos de entrenamiento. Cada etiqueta perteneciente a uno de los K grupos formados.\n",
        "\n",
        "Los grupos se van definiendo de manera “orgánica”, es decir que se va ajustando su posición en cada iteración del proceso, hasta que converge el algoritmo. Una vez hallados los centroids deberemos analizarlos para ver cuales son sus características únicas, frente a la de los otros grupos. Estos grupos son las etiquetas que genera el algoritmo.\n",
        "\n",
        "\n",
        "Ref. \n",
        "https://www.aprendemachinelearning.com/k-means-en-python-paso-a-paso/ \n",
        "\n",
        "K-Means Clustering in Python: A Practical Guide, https://realpython.com/k-means-clustering-python/\n"
      ],
      "metadata": {
        "id": "Z37AMT7b_W_e"
      }
    },
    {
      "cell_type": "code",
      "source": [
        "import pandas as pd\n",
        "import numpy as np\n",
        "import matplotlib.pyplot as plt\n",
        "import seaborn as sb\n",
        "from sklearn.cluster import KMeans\n",
        "from sklearn.metrics import pairwise_distances_argmin_min\n",
        "\n",
        "%matplotlib inline\n",
        "from mpl_toolkits.mplot3d import Axes3D\n",
        "plt.rcParams['figure.figsize'] = (16, 9)\n",
        "plt.style.use('ggplot')"
      ],
      "metadata": {
        "id": "m5qgmJd6_YRo"
      },
      "execution_count": null,
      "outputs": []
    },
    {
      "cell_type": "markdown",
      "source": [
        ""
      ],
      "metadata": {
        "id": "2muGaslz_RYq"
      }
    },
    {
      "cell_type": "code",
      "source": [
        "dataset.head()"
      ],
      "metadata": {
        "id": "XMkJE9vcvX_R",
        "colab": {
          "base_uri": "https://localhost:8080/",
          "height": 206
        },
        "outputId": "5323cf8a-2afe-46be-8185-d35a4df8056f"
      },
      "execution_count": null,
      "outputs": [
        {
          "output_type": "execute_result",
          "data": {
            "text/plain": [
              "   CustomerID  Gender  Age  Annual Income (k$)  Spending Score (1-100)\n",
              "0           1    Male   19                  15                      39\n",
              "1           2    Male   21                  15                      81\n",
              "2           3  Female   20                  16                       6\n",
              "3           4  Female   23                  16                      77\n",
              "4           5  Female   31                  17                      40"
            ],
            "text/html": [
              "\n",
              "  <div id=\"df-e8ebcbe2-4206-4806-8182-3eb4d96d5436\">\n",
              "    <div class=\"colab-df-container\">\n",
              "      <div>\n",
              "<style scoped>\n",
              "    .dataframe tbody tr th:only-of-type {\n",
              "        vertical-align: middle;\n",
              "    }\n",
              "\n",
              "    .dataframe tbody tr th {\n",
              "        vertical-align: top;\n",
              "    }\n",
              "\n",
              "    .dataframe thead th {\n",
              "        text-align: right;\n",
              "    }\n",
              "</style>\n",
              "<table border=\"1\" class=\"dataframe\">\n",
              "  <thead>\n",
              "    <tr style=\"text-align: right;\">\n",
              "      <th></th>\n",
              "      <th>CustomerID</th>\n",
              "      <th>Gender</th>\n",
              "      <th>Age</th>\n",
              "      <th>Annual Income (k$)</th>\n",
              "      <th>Spending Score (1-100)</th>\n",
              "    </tr>\n",
              "  </thead>\n",
              "  <tbody>\n",
              "    <tr>\n",
              "      <th>0</th>\n",
              "      <td>1</td>\n",
              "      <td>Male</td>\n",
              "      <td>19</td>\n",
              "      <td>15</td>\n",
              "      <td>39</td>\n",
              "    </tr>\n",
              "    <tr>\n",
              "      <th>1</th>\n",
              "      <td>2</td>\n",
              "      <td>Male</td>\n",
              "      <td>21</td>\n",
              "      <td>15</td>\n",
              "      <td>81</td>\n",
              "    </tr>\n",
              "    <tr>\n",
              "      <th>2</th>\n",
              "      <td>3</td>\n",
              "      <td>Female</td>\n",
              "      <td>20</td>\n",
              "      <td>16</td>\n",
              "      <td>6</td>\n",
              "    </tr>\n",
              "    <tr>\n",
              "      <th>3</th>\n",
              "      <td>4</td>\n",
              "      <td>Female</td>\n",
              "      <td>23</td>\n",
              "      <td>16</td>\n",
              "      <td>77</td>\n",
              "    </tr>\n",
              "    <tr>\n",
              "      <th>4</th>\n",
              "      <td>5</td>\n",
              "      <td>Female</td>\n",
              "      <td>31</td>\n",
              "      <td>17</td>\n",
              "      <td>40</td>\n",
              "    </tr>\n",
              "  </tbody>\n",
              "</table>\n",
              "</div>\n",
              "      <button class=\"colab-df-convert\" onclick=\"convertToInteractive('df-e8ebcbe2-4206-4806-8182-3eb4d96d5436')\"\n",
              "              title=\"Convert this dataframe to an interactive table.\"\n",
              "              style=\"display:none;\">\n",
              "        \n",
              "  <svg xmlns=\"http://www.w3.org/2000/svg\" height=\"24px\"viewBox=\"0 0 24 24\"\n",
              "       width=\"24px\">\n",
              "    <path d=\"M0 0h24v24H0V0z\" fill=\"none\"/>\n",
              "    <path d=\"M18.56 5.44l.94 2.06.94-2.06 2.06-.94-2.06-.94-.94-2.06-.94 2.06-2.06.94zm-11 1L8.5 8.5l.94-2.06 2.06-.94-2.06-.94L8.5 2.5l-.94 2.06-2.06.94zm10 10l.94 2.06.94-2.06 2.06-.94-2.06-.94-.94-2.06-.94 2.06-2.06.94z\"/><path d=\"M17.41 7.96l-1.37-1.37c-.4-.4-.92-.59-1.43-.59-.52 0-1.04.2-1.43.59L10.3 9.45l-7.72 7.72c-.78.78-.78 2.05 0 2.83L4 21.41c.39.39.9.59 1.41.59.51 0 1.02-.2 1.41-.59l7.78-7.78 2.81-2.81c.8-.78.8-2.07 0-2.86zM5.41 20L4 18.59l7.72-7.72 1.47 1.35L5.41 20z\"/>\n",
              "  </svg>\n",
              "      </button>\n",
              "      \n",
              "  <style>\n",
              "    .colab-df-container {\n",
              "      display:flex;\n",
              "      flex-wrap:wrap;\n",
              "      gap: 12px;\n",
              "    }\n",
              "\n",
              "    .colab-df-convert {\n",
              "      background-color: #E8F0FE;\n",
              "      border: none;\n",
              "      border-radius: 50%;\n",
              "      cursor: pointer;\n",
              "      display: none;\n",
              "      fill: #1967D2;\n",
              "      height: 32px;\n",
              "      padding: 0 0 0 0;\n",
              "      width: 32px;\n",
              "    }\n",
              "\n",
              "    .colab-df-convert:hover {\n",
              "      background-color: #E2EBFA;\n",
              "      box-shadow: 0px 1px 2px rgba(60, 64, 67, 0.3), 0px 1px 3px 1px rgba(60, 64, 67, 0.15);\n",
              "      fill: #174EA6;\n",
              "    }\n",
              "\n",
              "    [theme=dark] .colab-df-convert {\n",
              "      background-color: #3B4455;\n",
              "      fill: #D2E3FC;\n",
              "    }\n",
              "\n",
              "    [theme=dark] .colab-df-convert:hover {\n",
              "      background-color: #434B5C;\n",
              "      box-shadow: 0px 1px 3px 1px rgba(0, 0, 0, 0.15);\n",
              "      filter: drop-shadow(0px 1px 2px rgba(0, 0, 0, 0.3));\n",
              "      fill: #FFFFFF;\n",
              "    }\n",
              "  </style>\n",
              "\n",
              "      <script>\n",
              "        const buttonEl =\n",
              "          document.querySelector('#df-e8ebcbe2-4206-4806-8182-3eb4d96d5436 button.colab-df-convert');\n",
              "        buttonEl.style.display =\n",
              "          google.colab.kernel.accessAllowed ? 'block' : 'none';\n",
              "\n",
              "        async function convertToInteractive(key) {\n",
              "          const element = document.querySelector('#df-e8ebcbe2-4206-4806-8182-3eb4d96d5436');\n",
              "          const dataTable =\n",
              "            await google.colab.kernel.invokeFunction('convertToInteractive',\n",
              "                                                     [key], {});\n",
              "          if (!dataTable) return;\n",
              "\n",
              "          const docLinkHtml = 'Like what you see? Visit the ' +\n",
              "            '<a target=\"_blank\" href=https://colab.research.google.com/notebooks/data_table.ipynb>data table notebook</a>'\n",
              "            + ' to learn more about interactive tables.';\n",
              "          element.innerHTML = '';\n",
              "          dataTable['output_type'] = 'display_data';\n",
              "          await google.colab.output.renderOutput(dataTable, element);\n",
              "          const docLink = document.createElement('div');\n",
              "          docLink.innerHTML = docLinkHtml;\n",
              "          element.appendChild(docLink);\n",
              "        }\n",
              "      </script>\n",
              "    </div>\n",
              "  </div>\n",
              "  "
            ]
          },
          "metadata": {},
          "execution_count": 146
        }
      ]
    },
    {
      "cell_type": "code",
      "source": [
        "dataset.describe()"
      ],
      "metadata": {
        "colab": {
          "base_uri": "https://localhost:8080/",
          "height": 300
        },
        "id": "SnyLOzgQhIaM",
        "outputId": "d6cbc6c1-b319-4114-d052-7d3e4ab71d87"
      },
      "execution_count": null,
      "outputs": [
        {
          "output_type": "execute_result",
          "data": {
            "text/plain": [
              "       CustomerID         Age  Annual Income (k$)  Spending Score (1-100)\n",
              "count  200.000000  200.000000          200.000000              200.000000\n",
              "mean   100.500000   38.850000           60.560000               50.200000\n",
              "std     57.879185   13.969007           26.264721               25.823522\n",
              "min      1.000000   18.000000           15.000000                1.000000\n",
              "25%     50.750000   28.750000           41.500000               34.750000\n",
              "50%    100.500000   36.000000           61.500000               50.000000\n",
              "75%    150.250000   49.000000           78.000000               73.000000\n",
              "max    200.000000   70.000000          137.000000               99.000000"
            ],
            "text/html": [
              "\n",
              "  <div id=\"df-475d2674-91fa-4b55-b36c-71c5de72d078\">\n",
              "    <div class=\"colab-df-container\">\n",
              "      <div>\n",
              "<style scoped>\n",
              "    .dataframe tbody tr th:only-of-type {\n",
              "        vertical-align: middle;\n",
              "    }\n",
              "\n",
              "    .dataframe tbody tr th {\n",
              "        vertical-align: top;\n",
              "    }\n",
              "\n",
              "    .dataframe thead th {\n",
              "        text-align: right;\n",
              "    }\n",
              "</style>\n",
              "<table border=\"1\" class=\"dataframe\">\n",
              "  <thead>\n",
              "    <tr style=\"text-align: right;\">\n",
              "      <th></th>\n",
              "      <th>CustomerID</th>\n",
              "      <th>Age</th>\n",
              "      <th>Annual Income (k$)</th>\n",
              "      <th>Spending Score (1-100)</th>\n",
              "    </tr>\n",
              "  </thead>\n",
              "  <tbody>\n",
              "    <tr>\n",
              "      <th>count</th>\n",
              "      <td>200.000000</td>\n",
              "      <td>200.000000</td>\n",
              "      <td>200.000000</td>\n",
              "      <td>200.000000</td>\n",
              "    </tr>\n",
              "    <tr>\n",
              "      <th>mean</th>\n",
              "      <td>100.500000</td>\n",
              "      <td>38.850000</td>\n",
              "      <td>60.560000</td>\n",
              "      <td>50.200000</td>\n",
              "    </tr>\n",
              "    <tr>\n",
              "      <th>std</th>\n",
              "      <td>57.879185</td>\n",
              "      <td>13.969007</td>\n",
              "      <td>26.264721</td>\n",
              "      <td>25.823522</td>\n",
              "    </tr>\n",
              "    <tr>\n",
              "      <th>min</th>\n",
              "      <td>1.000000</td>\n",
              "      <td>18.000000</td>\n",
              "      <td>15.000000</td>\n",
              "      <td>1.000000</td>\n",
              "    </tr>\n",
              "    <tr>\n",
              "      <th>25%</th>\n",
              "      <td>50.750000</td>\n",
              "      <td>28.750000</td>\n",
              "      <td>41.500000</td>\n",
              "      <td>34.750000</td>\n",
              "    </tr>\n",
              "    <tr>\n",
              "      <th>50%</th>\n",
              "      <td>100.500000</td>\n",
              "      <td>36.000000</td>\n",
              "      <td>61.500000</td>\n",
              "      <td>50.000000</td>\n",
              "    </tr>\n",
              "    <tr>\n",
              "      <th>75%</th>\n",
              "      <td>150.250000</td>\n",
              "      <td>49.000000</td>\n",
              "      <td>78.000000</td>\n",
              "      <td>73.000000</td>\n",
              "    </tr>\n",
              "    <tr>\n",
              "      <th>max</th>\n",
              "      <td>200.000000</td>\n",
              "      <td>70.000000</td>\n",
              "      <td>137.000000</td>\n",
              "      <td>99.000000</td>\n",
              "    </tr>\n",
              "  </tbody>\n",
              "</table>\n",
              "</div>\n",
              "      <button class=\"colab-df-convert\" onclick=\"convertToInteractive('df-475d2674-91fa-4b55-b36c-71c5de72d078')\"\n",
              "              title=\"Convert this dataframe to an interactive table.\"\n",
              "              style=\"display:none;\">\n",
              "        \n",
              "  <svg xmlns=\"http://www.w3.org/2000/svg\" height=\"24px\"viewBox=\"0 0 24 24\"\n",
              "       width=\"24px\">\n",
              "    <path d=\"M0 0h24v24H0V0z\" fill=\"none\"/>\n",
              "    <path d=\"M18.56 5.44l.94 2.06.94-2.06 2.06-.94-2.06-.94-.94-2.06-.94 2.06-2.06.94zm-11 1L8.5 8.5l.94-2.06 2.06-.94-2.06-.94L8.5 2.5l-.94 2.06-2.06.94zm10 10l.94 2.06.94-2.06 2.06-.94-2.06-.94-.94-2.06-.94 2.06-2.06.94z\"/><path d=\"M17.41 7.96l-1.37-1.37c-.4-.4-.92-.59-1.43-.59-.52 0-1.04.2-1.43.59L10.3 9.45l-7.72 7.72c-.78.78-.78 2.05 0 2.83L4 21.41c.39.39.9.59 1.41.59.51 0 1.02-.2 1.41-.59l7.78-7.78 2.81-2.81c.8-.78.8-2.07 0-2.86zM5.41 20L4 18.59l7.72-7.72 1.47 1.35L5.41 20z\"/>\n",
              "  </svg>\n",
              "      </button>\n",
              "      \n",
              "  <style>\n",
              "    .colab-df-container {\n",
              "      display:flex;\n",
              "      flex-wrap:wrap;\n",
              "      gap: 12px;\n",
              "    }\n",
              "\n",
              "    .colab-df-convert {\n",
              "      background-color: #E8F0FE;\n",
              "      border: none;\n",
              "      border-radius: 50%;\n",
              "      cursor: pointer;\n",
              "      display: none;\n",
              "      fill: #1967D2;\n",
              "      height: 32px;\n",
              "      padding: 0 0 0 0;\n",
              "      width: 32px;\n",
              "    }\n",
              "\n",
              "    .colab-df-convert:hover {\n",
              "      background-color: #E2EBFA;\n",
              "      box-shadow: 0px 1px 2px rgba(60, 64, 67, 0.3), 0px 1px 3px 1px rgba(60, 64, 67, 0.15);\n",
              "      fill: #174EA6;\n",
              "    }\n",
              "\n",
              "    [theme=dark] .colab-df-convert {\n",
              "      background-color: #3B4455;\n",
              "      fill: #D2E3FC;\n",
              "    }\n",
              "\n",
              "    [theme=dark] .colab-df-convert:hover {\n",
              "      background-color: #434B5C;\n",
              "      box-shadow: 0px 1px 3px 1px rgba(0, 0, 0, 0.15);\n",
              "      filter: drop-shadow(0px 1px 2px rgba(0, 0, 0, 0.3));\n",
              "      fill: #FFFFFF;\n",
              "    }\n",
              "  </style>\n",
              "\n",
              "      <script>\n",
              "        const buttonEl =\n",
              "          document.querySelector('#df-475d2674-91fa-4b55-b36c-71c5de72d078 button.colab-df-convert');\n",
              "        buttonEl.style.display =\n",
              "          google.colab.kernel.accessAllowed ? 'block' : 'none';\n",
              "\n",
              "        async function convertToInteractive(key) {\n",
              "          const element = document.querySelector('#df-475d2674-91fa-4b55-b36c-71c5de72d078');\n",
              "          const dataTable =\n",
              "            await google.colab.kernel.invokeFunction('convertToInteractive',\n",
              "                                                     [key], {});\n",
              "          if (!dataTable) return;\n",
              "\n",
              "          const docLinkHtml = 'Like what you see? Visit the ' +\n",
              "            '<a target=\"_blank\" href=https://colab.research.google.com/notebooks/data_table.ipynb>data table notebook</a>'\n",
              "            + ' to learn more about interactive tables.';\n",
              "          element.innerHTML = '';\n",
              "          dataTable['output_type'] = 'display_data';\n",
              "          await google.colab.output.renderOutput(dataTable, element);\n",
              "          const docLink = document.createElement('div');\n",
              "          docLink.innerHTML = docLinkHtml;\n",
              "          element.appendChild(docLink);\n",
              "        }\n",
              "      </script>\n",
              "    </div>\n",
              "  </div>\n",
              "  "
            ]
          },
          "metadata": {},
          "execution_count": 157
        }
      ]
    },
    {
      "cell_type": "code",
      "source": [
        "print(dataset.groupby('Annual Income (k$)').size())"
      ],
      "metadata": {
        "colab": {
          "base_uri": "https://localhost:8080/"
        },
        "id": "MI4RCHaRhQWJ",
        "outputId": "edfb6c19-3edb-4974-b007-24ab27088318"
      },
      "execution_count": null,
      "outputs": [
        {
          "output_type": "stream",
          "name": "stdout",
          "text": [
            "Annual Income (k$)\n",
            "15     2\n",
            "16     2\n",
            "17     2\n",
            "18     2\n",
            "19     4\n",
            "      ..\n",
            "103    4\n",
            "113    2\n",
            "120    2\n",
            "126    2\n",
            "137    2\n",
            "Length: 64, dtype: int64\n"
          ]
        }
      ]
    },
    {
      "cell_type": "code",
      "source": [
        "dataset.drop(['Annual Income (k$)'],1).hist()\n",
        "plt.show()"
      ],
      "metadata": {
        "colab": {
          "base_uri": "https://localhost:8080/",
          "height": 610
        },
        "id": "r41NzxGbhduy",
        "outputId": "7bd149d2-b2bb-4a2a-b26e-33fe13382c64"
      },
      "execution_count": null,
      "outputs": [
        {
          "output_type": "stream",
          "name": "stderr",
          "text": [
            "/usr/local/lib/python3.7/dist-packages/ipykernel_launcher.py:1: FutureWarning: In a future version of pandas all arguments of DataFrame.drop except for the argument 'labels' will be keyword-only\n",
            "  \"\"\"Entry point for launching an IPython kernel.\n"
          ]
        },
        {
          "output_type": "display_data",
          "data": {
            "text/plain": [
              "<Figure size 1152x648 with 4 Axes>"
            ],
            "image/png": "[encoded data removed]"
          },
          "metadata": {}
        }
      ]
    },
    {
      "cell_type": "code",
      "source": [
        "dataset.drop(['CustomerID'],1).hist()\n",
        "plt.show()"
      ],
      "metadata": {
        "colab": {
          "base_uri": "https://localhost:8080/",
          "height": 610
        },
        "id": "-jkfDFPPh_jS",
        "outputId": "1179a0a8-d542-4771-ce04-932ab1ef08d1"
      },
      "execution_count": null,
      "outputs": [
        {
          "output_type": "stream",
          "name": "stderr",
          "text": [
            "/usr/local/lib/python3.7/dist-packages/ipykernel_launcher.py:1: FutureWarning: In a future version of pandas all arguments of DataFrame.drop except for the argument 'labels' will be keyword-only\n",
            "  \"\"\"Entry point for launching an IPython kernel.\n"
          ]
        },
        {
          "output_type": "display_data",
          "data": {
            "text/plain": [
              "<Figure size 1152x648 with 4 Axes>"
            ],
            "image/png": "[encoded data removed]"
          },
          "metadata": {}
        }
      ]
    },
    {
      "cell_type": "code",
      "source": [
        "dataset.drop(['Spending Score (1-100)'],1).hist()\n",
        "plt.show()"
      ],
      "metadata": {
        "colab": {
          "base_uri": "https://localhost:8080/",
          "height": 610
        },
        "id": "fBE9rx6Mhqdi",
        "outputId": "46d11a85-772f-4224-b05c-a7c17d951fb5"
      },
      "execution_count": null,
      "outputs": [
        {
          "output_type": "stream",
          "name": "stderr",
          "text": [
            "/usr/local/lib/python3.7/dist-packages/ipykernel_launcher.py:1: FutureWarning: In a future version of pandas all arguments of DataFrame.drop except for the argument 'labels' will be keyword-only\n",
            "  \"\"\"Entry point for launching an IPython kernel.\n"
          ]
        },
        {
          "output_type": "display_data",
          "data": {
            "text/plain": [
              "<Figure size 1152x648 with 4 Axes>"
            ],
            "image/png": "[encoded data removed]"
          },
          "metadata": {}
        }
      ]
    },
    {
      "cell_type": "code",
      "source": [
        "dataset.drop(['Age'],1).hist()\n",
        "plt.show()"
      ],
      "metadata": {
        "colab": {
          "base_uri": "https://localhost:8080/",
          "height": 610
        },
        "id": "NvBzZZukh4iy",
        "outputId": "c0eeab52-0c70-451e-bb97-432709b511ba"
      },
      "execution_count": null,
      "outputs": [
        {
          "output_type": "stream",
          "name": "stderr",
          "text": [
            "/usr/local/lib/python3.7/dist-packages/ipykernel_launcher.py:1: FutureWarning: In a future version of pandas all arguments of DataFrame.drop except for the argument 'labels' will be keyword-only\n",
            "  \"\"\"Entry point for launching an IPython kernel.\n"
          ]
        },
        {
          "output_type": "display_data",
          "data": {
            "text/plain": [
              "<Figure size 1152x648 with 4 Axes>"
            ],
            "image/png": "[encoded data removed]"
          },
          "metadata": {}
        }
      ]
    },
    {
      "cell_type": "code",
      "source": [
        "sb.pairplot(dataset.dropna(), hue='CustomerID',size=4,vars=[\"Spending Score (1-100)\",\"Age\",\"Annual Income (k$)\"],kind='1')"
      ],
      "metadata": {
        "id": "TjbxE0tBiQRY"
      },
      "execution_count": null,
      "outputs": []
    },
    {
      "cell_type": "code",
      "source": [
        "X = np.array(dataset[[\"Spending Score (1-100)\",\"Age\",\"Annual Income (k$)\"]])\n",
        "y = np.array(dataset['CustomerID'])\n",
        "X.shape"
      ],
      "metadata": {
        "colab": {
          "base_uri": "https://localhost:8080/"
        },
        "id": "rJr6ve4VjdD9",
        "outputId": "1ecd33ac-9cba-4a14-a44d-cc01367ba240"
      },
      "execution_count": null,
      "outputs": [
        {
          "output_type": "execute_result",
          "data": {
            "text/plain": [
              "(200, 3)"
            ]
          },
          "metadata": {},
          "execution_count": 159
        }
      ]
    }
  ]
}